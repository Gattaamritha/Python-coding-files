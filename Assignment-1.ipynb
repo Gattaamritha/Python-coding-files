{
 "cells": [
  {
   "cell_type": "code",
   "execution_count": 2,
   "id": "4f4af4bc",
   "metadata": {},
   "outputs": [
    {
     "data": {
      "text/plain": [
       "'amritha'"
      ]
     },
     "execution_count": 2,
     "metadata": {},
     "output_type": "execute_result"
    }
   ],
   "source": [
    "#1. Write a python program to convert a string to lower case\n",
    "\n",
    "con_lower='Amritha'\n",
    "con_lower.lower()"
   ]
  },
  {
   "cell_type": "code",
   "execution_count": 31,
   "id": "4eccaab0",
   "metadata": {},
   "outputs": [
    {
     "data": {
      "text/plain": [
       "'PyThOn'"
      ]
     },
     "execution_count": 31,
     "metadata": {},
     "output_type": "execute_result"
    }
   ],
   "source": [
    "#2. Write a python program to convert only odd indexed characters to lower case\n",
    "\n",
    "#odd_indexchar='PYTHON'\n",
    "#odd_indexchar[:1]+odd_indexchar[1:2].lower()+odd_indexchar[2:3]+odd_indexchar[3:4].lower()+odd_indexchar[4:5]+odd_indexchar[5:7].lower()\n",
    "\n",
    "#(or)\n",
    "odd_indexchar[0]+odd_indexchar[1].lower()+odd_indexchar[2]+odd_indexchar[3].lower()+odd_indexchar[4]+odd_indexchar[5].lower()"
   ]
  },
  {
   "cell_type": "code",
   "execution_count": 36,
   "id": "ce209857",
   "metadata": {},
   "outputs": [
    {
     "data": {
      "text/plain": [
       "'aMrItHa'"
      ]
     },
     "execution_count": 36,
     "metadata": {},
     "output_type": "execute_result"
    }
   ],
   "source": [
    "#3. Write a python program to convert only even indexed characters to lower case\n",
    "\n",
    "x='AMRITHA'\n",
    "x[0].lower()+x[1]+x[2].lower()+x[3]+x[4].lower()+x[5]+x[6].lower()"
   ]
  },
  {
   "cell_type": "code",
   "execution_count": 37,
   "id": "e5926de7",
   "metadata": {},
   "outputs": [
    {
     "data": {
      "text/plain": [
       "'aMrItHa'"
      ]
     },
     "execution_count": 37,
     "metadata": {},
     "output_type": "execute_result"
    }
   ],
   "source": [
    "#4. Write a python program to convert only odd indexed characters to upper case\n",
    "x='amritha'\n",
    "x[0]+x[1].upper()+x[2]+x[3].upper()+x[4]+x[5].upper()+x[6]"
   ]
  },
  {
   "cell_type": "code",
   "execution_count": 38,
   "id": "ba30a856",
   "metadata": {},
   "outputs": [
    {
     "data": {
      "text/plain": [
       "'AmRiThA'"
      ]
     },
     "execution_count": 38,
     "metadata": {},
     "output_type": "execute_result"
    }
   ],
   "source": [
    "#5. Write a python program to convert only even indexed characters to upper case\n",
    "x='amritha'\n",
    "x[0].upper()+x[1]+x[2].upper()+x[3]+x[4].upper()+x[5]+x[6].upper()"
   ]
  },
  {
   "cell_type": "code",
   "execution_count": 43,
   "id": "c8ad946e",
   "metadata": {},
   "outputs": [
    {
     "name": "stdout",
     "output_type": "stream",
     "text": [
      "Bio_Data\n",
      "My name is Amritha\n",
      "My age is 29\n",
      "My gender is Female\n",
      "My phno is 9765432178\n",
      "My fathers name is Ashok\n",
      "My mothers name is anuradha\n"
     ]
    }
   ],
   "source": [
    "#6.write a python program where you have different variable which contains your name,age,sex,phone no,father'name and mother's name and by using\n",
    "#this variable create a variable named bio data where will use all these data\n",
    "\n",
    "name='Amritha'\n",
    "age=29\n",
    "sex='Female'\n",
    "phno='9765432178'\n",
    "fathers_name='Ashok'\n",
    "mothername='anuradha'\n",
    "print(\"Bio_Data\",end=\"\\n\")\n",
    "print(\"My name is {}\".format(name))\n",
    "print(\"My age is {}\".format(age))\n",
    "print(\"My gender is {}\".format(sex))\n",
    "print(\"My phno is {}\".format(phno))\n",
    "print(\"My fathers name is {}\".format(fathers_name))\n",
    "print(\"My mothers name is {}\".format(mothername))"
   ]
  },
  {
   "cell_type": "code",
   "execution_count": 46,
   "id": "fb36d62f",
   "metadata": {},
   "outputs": [
    {
     "name": "stdout",
     "output_type": "stream",
     "text": [
      "('name1', 'name2', ',name')\n"
     ]
    }
   ],
   "source": [
    "#7.write a oython program to get only names of the string\n",
    "x='name1.@gmail.com,name2.@gmail.com,name3.@gmail.com'\n",
    "output=x[:5],x[17:22],x[33:38]\n",
    "print(output)"
   ]
  },
  {
   "cell_type": "code",
   "execution_count": 50,
   "id": "2b3b57a2",
   "metadata": {},
   "outputs": [
    {
     "data": {
      "text/plain": [
       "3"
      ]
     },
     "execution_count": 50,
     "metadata": {},
     "output_type": "execute_result"
    }
   ],
   "source": [
    "#8.write a python program to count how many times '@' occured\n",
    "x='abc@@@'\n",
    "x.count('@')"
   ]
  },
  {
   "cell_type": "code",
   "execution_count": 53,
   "id": "425532be",
   "metadata": {},
   "outputs": [
    {
     "data": {
      "text/plain": [
       "'efg'"
      ]
     },
     "execution_count": 53,
     "metadata": {},
     "output_type": "execute_result"
    }
   ],
   "source": [
    "#9.Given a string of odd length greater than 9 return a new string of the middle three characters of the string\n",
    "\n",
    "x='abcdefghijk'\n",
    "x[4:7]\n",
    "#or\n",
    "x[4:-4]"
   ]
  },
  {
   "cell_type": "code",
   "execution_count": 57,
   "id": "6123660a",
   "metadata": {},
   "outputs": [
    {
     "data": {
      "text/plain": [
       "'msayn'"
      ]
     },
     "execution_count": 57,
     "metadata": {},
     "output_type": "execute_result"
    }
   ],
   "source": [
    "#10.write a python program to insert a 2 string in the middle of the string\n",
    "str1='myn'\n",
    "str2='sa'\n",
    "str1[:1]+str2+str1[1:3]"
   ]
  },
  {
   "cell_type": "code",
   "execution_count": null,
   "id": "7acd016a",
   "metadata": {},
   "outputs": [],
   "source": [
    "#11.write a program to remove the vowels from the string\n",
    "var1='abcdefghijklmnopqrstuvwxyz'\n",
    "rem_vowels='aeiou'\n",
    "table=var1.maketrans(\"\",\"\",rem_vowels)\n",
    "var1.translate(table)\n",
    "#or we can use replace method also."
   ]
  }
 ],
 "metadata": {
  "kernelspec": {
   "display_name": "Python 3 (ipykernel)",
   "language": "python",
   "name": "python3"
  },
  "language_info": {
   "codemirror_mode": {
    "name": "ipython",
    "version": 3
   },
   "file_extension": ".py",
   "mimetype": "text/x-python",
   "name": "python",
   "nbconvert_exporter": "python",
   "pygments_lexer": "ipython3",
   "version": "3.11.3"
  }
 },
 "nbformat": 4,
 "nbformat_minor": 5
}
