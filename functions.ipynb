{
 "cells": [
  {
   "cell_type": "code",
   "execution_count": 1,
   "id": "566cb787",
   "metadata": {},
   "outputs": [
    {
     "data": {
      "text/plain": [
       "6"
      ]
     },
     "execution_count": 1,
     "metadata": {},
     "output_type": "execute_result"
    }
   ],
   "source": [
    "#length\n",
    "var52='123456'\n",
    "len(var52)"
   ]
  },
  {
   "cell_type": "code",
   "execution_count": 2,
   "id": "74633925",
   "metadata": {},
   "outputs": [
    {
     "name": "stdout",
     "output_type": "stream",
     "text": [
      "1 2 3@hi@bye\n",
      "hello\n"
     ]
    }
   ],
   "source": [
    "#print()\n",
    "a=1\n",
    "b=2\n",
    "c=3\n",
    "print(a,b,c,sep=' ',end='@')\n",
    "print('hi',end='@')\n",
    "print('bye')\n",
    "print('hello')"
   ]
  },
  {
   "cell_type": "code",
   "execution_count": 3,
   "id": "fcbff565",
   "metadata": {},
   "outputs": [
    {
     "name": "stdout",
     "output_type": "stream",
     "text": [
      "what is your name amritha\n"
     ]
    }
   ],
   "source": [
    "#input()\n",
    "name=input('what is your name ')"
   ]
  },
  {
   "cell_type": "code",
   "execution_count": 4,
   "id": "bf5de53d",
   "metadata": {},
   "outputs": [
    {
     "data": {
      "text/plain": [
       "'amritha'"
      ]
     },
     "execution_count": 4,
     "metadata": {},
     "output_type": "execute_result"
    }
   ],
   "source": [
    "name"
   ]
  },
  {
   "cell_type": "code",
   "execution_count": 7,
   "id": "29fecd83",
   "metadata": {},
   "outputs": [
    {
     "name": "stdout",
     "output_type": "stream",
     "text": [
      "what is your age29\n"
     ]
    }
   ],
   "source": [
    "age=int(input('what is your age'))"
   ]
  },
  {
   "cell_type": "code",
   "execution_count": 8,
   "id": "0d960a7b",
   "metadata": {},
   "outputs": [
    {
     "data": {
      "text/plain": [
       "29"
      ]
     },
     "execution_count": 8,
     "metadata": {},
     "output_type": "execute_result"
    }
   ],
   "source": [
    "age"
   ]
  },
  {
   "cell_type": "code",
   "execution_count": 32,
   "id": "ca74c8ff",
   "metadata": {},
   "outputs": [
    {
     "name": "stdout",
     "output_type": "stream",
     "text": [
      "my name is amritha\n",
      "my age is 29\n",
      "my height is 5.4\n",
      " \n"
     ]
    }
   ],
   "source": [
    "#format()\n",
    "name='amritha'\n",
    "age='29'\n",
    "height='5.4'\n",
    "print(\"my name is {0}\\nmy age is {1}\\nmy height is {2}\\n \".format(name,age,height))"
   ]
  },
  {
   "cell_type": "code",
   "execution_count": 4,
   "id": "bd85f22b",
   "metadata": {},
   "outputs": [
    {
     "data": {
      "text/plain": [
       "'my name is amritha\\n my age is 29 my height is 5.4 '"
      ]
     },
     "execution_count": 4,
     "metadata": {},
     "output_type": "execute_result"
    }
   ],
   "source": [
    "\"my name is {0} my age is {1} my height is {2} \".format(name,age,height)"
   ]
  },
  {
   "cell_type": "code",
   "execution_count": 7,
   "id": "e733e787",
   "metadata": {},
   "outputs": [
    {
     "name": "stdout",
     "output_type": "stream",
     "text": [
      "enter any number20\n",
      "enter any number30\n",
      "sum of two numbers=600\n"
     ]
    }
   ],
   "source": [
    "num1=int(input(\"enter any number\"))\n",
    "num2=int(input(\"enter any number\"))\n",
    "print(\"sum of two numbers={}\".format(num1*num2))"
   ]
  },
  {
   "cell_type": "code",
   "execution_count": 32,
   "id": "01624fb6",
   "metadata": {},
   "outputs": [
    {
     "name": "stdout",
     "output_type": "stream",
     "text": [
      "10*30=300\n"
     ]
    }
   ],
   "source": [
    "print('{}*{}={}'.format(num1,num2,num1*num2))"
   ]
  },
  {
   "cell_type": "code",
   "execution_count": 35,
   "id": "13594bb1",
   "metadata": {},
   "outputs": [
    {
     "data": {
      "text/plain": [
       "'Amritha'"
      ]
     },
     "execution_count": 35,
     "metadata": {},
     "output_type": "execute_result"
    }
   ],
   "source": [
    "name[0].upper()+name[1:]"
   ]
  },
  {
   "cell_type": "code",
   "execution_count": 38,
   "id": "2992e04a",
   "metadata": {},
   "outputs": [
    {
     "data": {
      "text/plain": [
       "\"'\""
      ]
     },
     "execution_count": 38,
     "metadata": {},
     "output_type": "execute_result"
    }
   ],
   "source": [
    "'\\''\n"
   ]
  },
  {
   "cell_type": "code",
   "execution_count": 40,
   "id": "6b756fce",
   "metadata": {},
   "outputs": [
    {
     "data": {
      "text/plain": [
       "'@'"
      ]
     },
     "execution_count": 40,
     "metadata": {},
     "output_type": "execute_result"
    }
   ],
   "source": [
    "var1='@'\n",
    "var1"
   ]
  },
  {
   "cell_type": "code",
   "execution_count": 10,
   "id": "cd4e9226",
   "metadata": {},
   "outputs": [
    {
     "data": {
      "text/plain": [
       "\"'\""
      ]
     },
     "execution_count": 10,
     "metadata": {},
     "output_type": "execute_result"
    }
   ],
   "source": [
    "#escape character\n",
    "var3='\\''\n",
    "var3"
   ]
  },
  {
   "cell_type": "code",
   "execution_count": 21,
   "id": "c265a0e6",
   "metadata": {},
   "outputs": [
    {
     "data": {
      "text/plain": [
       "'\\\\c'"
      ]
     },
     "execution_count": 21,
     "metadata": {},
     "output_type": "execute_result"
    }
   ],
   "source": [
    "var4=\"\\\\c\"\n",
    "var4"
   ]
  },
  {
   "cell_type": "code",
   "execution_count": 33,
   "id": "7b100b61",
   "metadata": {},
   "outputs": [
    {
     "name": "stdout",
     "output_type": "stream",
     "text": [
      "my name is \tamritha\n"
     ]
    }
   ],
   "source": [
    "print('my name is \\tamritha')"
   ]
  },
  {
   "cell_type": "code",
   "execution_count": 35,
   "id": "ac6a7784",
   "metadata": {},
   "outputs": [
    {
     "name": "stdout",
     "output_type": "stream",
     "text": [
      "my name is \t\bamritha\n"
     ]
    }
   ],
   "source": [
    "print('my name is \\t\\bamritha')"
   ]
  },
  {
   "cell_type": "code",
   "execution_count": 36,
   "id": "6415f75c",
   "metadata": {},
   "outputs": [
    {
     "data": {
      "text/plain": [
       "4"
      ]
     },
     "execution_count": 36,
     "metadata": {},
     "output_type": "execute_result"
    }
   ],
   "source": [
    "len('a\\bnv')"
   ]
  },
  {
   "cell_type": "code",
   "execution_count": 37,
   "id": "975cb100",
   "metadata": {},
   "outputs": [
    {
     "data": {
      "text/plain": [
       "1"
      ]
     },
     "execution_count": 37,
     "metadata": {},
     "output_type": "execute_result"
    }
   ],
   "source": [
    "len('\\t')"
   ]
  },
  {
   "cell_type": "code",
   "execution_count": null,
   "id": "95d34f5c",
   "metadata": {},
   "outputs": [],
   "source": []
  }
 ],
 "metadata": {
  "kernelspec": {
   "display_name": "Python 3 (ipykernel)",
   "language": "python",
   "name": "python3"
  },
  "language_info": {
   "codemirror_mode": {
    "name": "ipython",
    "version": 3
   },
   "file_extension": ".py",
   "mimetype": "text/x-python",
   "name": "python",
   "nbconvert_exporter": "python",
   "pygments_lexer": "ipython3",
   "version": "3.11.3"
  }
 },
 "nbformat": 4,
 "nbformat_minor": 5
}
